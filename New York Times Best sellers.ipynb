{
 "cells": [
  {
   "cell_type": "code",
   "execution_count": 44,
   "metadata": {
    "collapsed": true
   },
   "outputs": [],
   "source": [
    "import numpy\n",
    "import requests\n",
    "from bs4 import BeautifulSoup\n",
    "url = \"http://forecast.weather.gov/MapClick.php?lat=37.7772&lon=-122.4168\""
   ]
  },
  {
   "cell_type": "code",
   "execution_count": 45,
   "metadata": {},
   "outputs": [
    {
     "name": "stdout",
     "output_type": "stream",
     "text": [
      "<li class=\"trending \">\n",
      " <article class=\"book\" itemscope=\"\" itemtype=\"https://schema.org/Book\">\n",
      "  <header class=\"book-header\">\n",
      "   <div class=\"thumb\">\n",
      "    <img onerror=\"this.src='https://s1.nyt.com/du/books/images/default-image.png'\" role=\"presentation\" src=\"https://s1.nyt.com/du/books/images/9780385543989.jpg\"/>\n",
      "   </div>\n",
      "  </header>\n",
      "  <div class=\"book-body\">\n",
      "   <p class=\"freshness\">\n",
      "    New this week\n",
      "   </p>\n",
      "   <h3 class=\"title\" itemprop=\"name\">\n",
      "    DARKER\n",
      "   </h3>\n",
      "   <p class=\"author\" itemprop=\"author\">\n",
      "    by E. L. James\n",
      "   </p>\n",
      "   <p class=\"description\" itemprop=\"description\">\n",
      "    Christian Grey's tormented and difficult pursuit of Anastasia Steele is told from his perspective.\n",
      "   </p>\n",
      "  </div>\n",
      " </article>\n",
      " <ul class=\"action-menu\">\n",
      "  <li class=\"buy-item\">\n",
      "   <button class=\"button buy-button is-desktop\" data-amazon=\"https://www.amazon.com/Darker-Fifty-Shades-Told-Christian-ebook/dp/B07693HRS9?tag=NYTBS-20\" data-author=\"by E. L. James\" data-barnesandnoble=\"http://www.anrdoezrs.net/click-7990613-11819508?url=http%3A%2F%2Fwww.barnesandnoble.com%2Fw%2F%3Fean%3D9780385543989\" data-image=\"https://s1.nyt.com/du/books/images/9780385543989.jpg\" data-localbookstore=\"http://www.indiebound.org/book/9780385543989?aff=NYT\" data-rank=\"1\" data-title=\"DARKER\">\n",
      "    Buy\n",
      "    <i class=\"icon caret-icon\">\n",
      "    </i>\n",
      "   </button>\n",
      "  </li>\n",
      " </ul>\n",
      "</li>\n",
      "\n"
     ]
    }
   ],
   "source": [
    "page = requests.get(\"https://www.nytimes.com/books/best-sellers/\")\n",
    "soup = BeautifulSoup(page.content, 'html.parser')\n",
    "seven_day = soup.find(id=\"main\")\n",
    "items = seven_day.find_all(class_=\"trending\")\n",
    "tonight = items[0]\n",
    "print(tonight.prettify())"
   ]
  },
  {
   "cell_type": "code",
   "execution_count": 46,
   "metadata": {},
   "outputs": [
    {
     "name": "stdout",
     "output_type": "stream",
     "text": [
      "DARKER\n",
      "by E. L. James\n",
      "Christian Grey's tormented and difficult pursuit of Anastasia Steele is told from his perspective.\n"
     ]
    }
   ],
   "source": [
    "name = tonight.find(class_=\"title\").get_text()\n",
    "print(name)\n",
    "author = tonight.find(class_=\"author\").get_text()\n",
    "print(author)\n",
    "description = tonight.find(class_=\"description\").get_text()\n",
    "print(description)"
   ]
  },
  {
   "cell_type": "code",
   "execution_count": 52,
   "metadata": {},
   "outputs": [],
   "source": [
    "book_list = seven_day.select(\" .trending .title\")\n",
    "titles = [pt.get_text().lower() for pt in book_list]\n",
    "book_desc = seven_day.select(\" .trending .description\")\n",
    "desc = [pt.get_text() for pt in book_desc]\n",
    "book_author = seven_day.select(\" .trending .author\")\n",
    "authors = [pt.get_text() for pt in book_author]\n",
    "book_fresh = seven_day.select(\" .trending .freshness\")\n",
    "fresh = [pt.get_text() for pt in book_fresh]\n",
    "book_subc = seven_day.select(\" #main .subcategory-heading-link\")\n",
    "subc = [pt.get_text() for pt in book_subc]\n",
    "subc\n"
   ]
  },
  {
   "cell_type": "code",
   "execution_count": 56,
   "metadata": {},
   "outputs": [],
   "source": [
    "import pandas as pd\n",
    "best_sellers = pd.DataFrame({\n",
    "    \"title\" : titles,\n",
    "    \"authors\" : authors,\n",
    "    \"description\" : desc,\n",
    "    \"freshness\": fresh\n",
    "})\n"
   ]
  },
  {
   "cell_type": "code",
   "execution_count": 63,
   "metadata": {
    "scrolled": true
   },
   "outputs": [
    {
     "data": {
      "text/plain": [
       "[u'i',\n",
       " u'me',\n",
       " u'my',\n",
       " u'myself',\n",
       " u'we',\n",
       " u'our',\n",
       " u'ours',\n",
       " u'ourselves',\n",
       " u'you',\n",
       " u'your',\n",
       " u'yours',\n",
       " u'yourself',\n",
       " u'yourselves',\n",
       " u'he',\n",
       " u'him',\n",
       " u'his',\n",
       " u'himself',\n",
       " u'she',\n",
       " u'her',\n",
       " u'hers',\n",
       " u'herself',\n",
       " u'it',\n",
       " u'its',\n",
       " u'itself',\n",
       " u'they',\n",
       " u'them',\n",
       " u'their',\n",
       " u'theirs',\n",
       " u'themselves',\n",
       " u'what']"
      ]
     },
     "execution_count": 63,
     "metadata": {},
     "output_type": "execute_result"
    }
   ],
   "source": [
    "import nltk\n",
    "#nltk.download('stopwords')\n",
    "stop = nltk.corpus.stopwords.words('English')\n",
    "stop[:30]"
   ]
  },
  {
   "cell_type": "code",
   "execution_count": 80,
   "metadata": {},
   "outputs": [
    {
     "data": {
      "text/plain": [
       "[\"[u'Christian', u'Grey', u's', u'tormented', u'and', u'difficult', u'pursuit', u'of', u'Anastasia', u'Steele', u'is', u'told', u'from', u'his', u'perspective']\",\n",
       " \"[u'Three', u'students', u'at', u'a', u'sleazy', u'for', u'profit', u'law', u'school', u'hope', u'to', u'expose', u'the', u'student', u'loan', u'banker', u'who', u'runs', u'it']\",\n",
       " \"[u'A', u'symbology', u'professor', u'goes', u'on', u'a', u'perilous', u'quest', u'with', u'a', u'beautiful', u'museum', u'director']\"]"
      ]
     },
     "execution_count": 80,
     "metadata": {},
     "output_type": "execute_result"
    }
   ],
   "source": [
    "from nltk.tokenize import RegexpTokenizer\n",
    "tokenizer = RegexpTokenizer(\"\\w+\")\n",
    "#desc = [str(desc_r) for desc_r in desc]\n",
    "\n",
    "desc_toke = []\n",
    "for pt in desc:\n",
    "    pt.encode(\"utf-8\")\n",
    "    desc_toke.append(tokenizer.tokenize(pt))\n",
    "\n",
    "desc_uniq = []\n",
    "\n",
    "for words in desc_toke:\n",
    "    \n",
    "    if not words in stop:\n",
    "        \n",
    "        desc_uniq.append(words)\n",
    "desc_uniq = [str(desc_u) for desc_u in desc_uniq  ]\n",
    "desc_uniq[:3]"
   ]
  },
  {
   "cell_type": "code",
   "execution_count": 82,
   "metadata": {},
   "outputs": [
    {
     "data": {
      "image/png": "[encoded data removed]",
      "text/plain": [
       "<matplotlib.figure.Figure at 0x10b7cdd8>"
      ]
     },
     "metadata": {},
     "output_type": "display_data"
    }
   ],
   "source": [
    "import matplotlib.pyplot as plt\n",
    "import seaborn as sns\n",
    "%matplotlib inline\n",
    "#To save the plot within the notebook itself\n",
    "sns.set()\n",
    "freqDist = nltk.FreqDist(authors)\n",
    "freqDist.plot(25)"
   ]
  }
 ],
 "metadata": {
  "kernelspec": {
   "display_name": "Python 2",
   "language": "python",
   "name": "python2"
  },
  "language_info": {
   "codemirror_mode": {
    "name": "ipython",
    "version": 2
   },
   "file_extension": ".py",
   "mimetype": "text/x-python",
   "name": "python",
   "nbconvert_exporter": "python",
   "pygments_lexer": "ipython2",
   "version": "2.7.14"
  }
 },
 "nbformat": 4,
 "nbformat_minor": 2
}
